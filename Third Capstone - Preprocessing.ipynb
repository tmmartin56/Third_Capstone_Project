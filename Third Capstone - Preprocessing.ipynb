{
 "cells": [
  {
   "cell_type": "markdown",
   "metadata": {},
   "source": [
    "# AirBNB NYC Property Clustering - Preprocessing\n",
    "\n",
    "## Springboard Data Science Track - Third Capstone - Travis Martin"
   ]
  },
  {
   "cell_type": "code",
   "execution_count": 88,
   "metadata": {},
   "outputs": [],
   "source": [
    "import pandas as pd\n",
    "import matplotlib.pyplot as plt\n",
    "%matplotlib inline\n",
    "import numpy as np\n",
    "import seaborn as sns\n",
    "from sklearn.cluster import KMeans\n",
    "from sklearn.decomposition import PCA\n",
    "from sklearn.metrics import silhouette_score, adjusted_rand_score\n",
    "from sklearn.pipeline import Pipeline\n",
    "from sklearn.preprocessing import LabelEncoder, MinMaxScaler"
   ]
  },
  {
   "cell_type": "code",
   "execution_count": 89,
   "metadata": {},
   "outputs": [
    {
     "name": "stdout",
     "output_type": "stream",
     "text": [
      "<class 'pandas.core.frame.DataFrame'>\n",
      "RangeIndex: 16242 entries, 0 to 16241\n",
      "Data columns (total 89 columns):\n",
      " #   Column                   Non-Null Count  Dtype  \n",
      "---  ------                   --------------  -----  \n",
      " 0   id                       16242 non-null  float64\n",
      " 1   log_price                16242 non-null  float64\n",
      " 2   property_type            16242 non-null  object \n",
      " 3   accommodates             16242 non-null  float64\n",
      " 4   bathrooms                16242 non-null  float64\n",
      " 5   bed_type                 16242 non-null  object \n",
      " 6   cancellation_policy      16242 non-null  object \n",
      " 7   cleaning_fee             16242 non-null  int64  \n",
      " 8   host_has_profile_pic     16242 non-null  int64  \n",
      " 9   host_identity_verified   16242 non-null  int64  \n",
      " 10  host_response_rate       16242 non-null  float64\n",
      " 11  instant_bookable         16242 non-null  int64  \n",
      " 12  latitude                 16242 non-null  float64\n",
      " 13  longitude                16242 non-null  float64\n",
      " 14  neighbourhood            16242 non-null  object \n",
      " 15  number_of_reviews        16242 non-null  float64\n",
      " 16  review_scores_rating     16242 non-null  float64\n",
      " 17  zipcode                  16242 non-null  int64  \n",
      " 18  bedrooms                 16242 non-null  float64\n",
      " 19  beds                     16242 non-null  float64\n",
      " 20  AC                       16242 non-null  int64  \n",
      " 21  WiFi                     16242 non-null  int64  \n",
      " 22  Office                   16242 non-null  int64  \n",
      " 23  Kids                     16242 non-null  int64  \n",
      " 24  Washer                   16242 non-null  int64  \n",
      " 25  Dryer                    16242 non-null  int64  \n",
      " 26  Elevator                 16242 non-null  int64  \n",
      " 27  24hr                     16242 non-null  int64  \n",
      " 28  BR_Lock                  16242 non-null  int64  \n",
      " 29  Self_CheckIn             16242 non-null  int64  \n",
      " 30  Pet_Friendly             16242 non-null  int64  \n",
      " 31  Doorman                  16242 non-null  int64  \n",
      " 32  Private_Ent              16242 non-null  int64  \n",
      " 33  Stove                    16242 non-null  int64  \n",
      " 34  Oven                     16242 non-null  int64  \n",
      " 35  Gym                      16242 non-null  int64  \n",
      " 36  Lockbox                  16242 non-null  int64  \n",
      " 37  Free_parking             16242 non-null  int64  \n",
      " 38  Breakfast                16242 non-null  int64  \n",
      " 39  Wheelchair               16242 non-null  int64  \n",
      " 40  Pets_on_prop             16242 non-null  int64  \n",
      " 41  Events                   16242 non-null  int64  \n",
      " 42  Fireplace                16242 non-null  int64  \n",
      " 43  Dishwasher               16242 non-null  int64  \n",
      " 44  Hot_tub                  16242 non-null  int64  \n",
      " 45  Long_term                16242 non-null  int64  \n",
      " 46  Darkening                16242 non-null  int64  \n",
      " 47  Pets                     16242 non-null  int64  \n",
      " 48  Luggage                  16242 non-null  int64  \n",
      " 49  Smoking                  16242 non-null  int64  \n",
      " 50  Keypad                   16242 non-null  int64  \n",
      " 51  Patio_Balcony            16242 non-null  int64  \n",
      " 52  Garden_backyard          16242 non-null  int64  \n",
      " 53  Private_LR               16242 non-null  int64  \n",
      " 54  Pool                     16242 non-null  int64  \n",
      " 55  Smart lock               16242 non-null  int64  \n",
      " 56  BBQ grill                16242 non-null  int64  \n",
      " 57  Crib                     16242 non-null  int64  \n",
      " 58  days_since_first_review  16242 non-null  int64  \n",
      " 59  avg_mthly_rev            16242 non-null  float64\n",
      " 60  days_since_host_start    16242 non-null  int64  \n",
      " 61  has_url                  16242 non-null  int64  \n",
      " 62  desc_length              16242 non-null  int64  \n",
      " 63  name_length              16242 non-null  int64  \n",
      " 64  #_of_amenities           16242 non-null  int64  \n",
      " 65  big_words                16242 non-null  int64  \n",
      " 66  small_words              16242 non-null  int64  \n",
      " 67  pub_trans_words          16242 non-null  int64  \n",
      " 68  landmark_words           16242 non-null  int64  \n",
      " 69  nightlife_words          16242 non-null  int64  \n",
      " 70  business_words           16242 non-null  int64  \n",
      " 71  safety_words             16242 non-null  int64  \n",
      " 72  view_words               16242 non-null  int64  \n",
      " 73  updates_words            16242 non-null  int64  \n",
      " 74  cleanliness_words        16242 non-null  int64  \n",
      " 75  tourism_words            16242 non-null  int64  \n",
      " 76  relaxation_words         16242 non-null  int64  \n",
      " 77  family_words             16242 non-null  int64  \n",
      " 78  proximity_words          16242 non-null  int64  \n",
      " 79  romance_words            16242 non-null  int64  \n",
      " 80  luxury_words             16242 non-null  int64  \n",
      " 81  culture_words            16242 non-null  int64  \n",
      " 82  ease_words               16242 non-null  int64  \n",
      " 83  hip_words                16242 non-null  int64  \n",
      " 84  history_words            16242 non-null  int64  \n",
      " 85  nature_words             16242 non-null  int64  \n",
      " 86  retail_words             16242 non-null  int64  \n",
      " 87  negative_words           16242 non-null  int64  \n",
      " 88  borough                  16242 non-null  object \n",
      "dtypes: float64(12), int64(72), object(5)\n",
      "memory usage: 11.0+ MB\n"
     ]
    }
   ],
   "source": [
    "df_NYC = pd.read_csv('D://Springboard/ThirdCapstone/RawData/EDA_df.csv')\n",
    "df_NYC.info()"
   ]
  },
  {
   "cell_type": "code",
   "execution_count": 90,
   "metadata": {},
   "outputs": [
    {
     "name": "stdout",
     "output_type": "stream",
     "text": [
      "187\n",
      "183\n"
     ]
    }
   ],
   "source": [
    "print(df_NYC['neighbourhood'].nunique())\n",
    "print(df_NYC['zipcode'].nunique())"
   ]
  },
  {
   "cell_type": "markdown",
   "metadata": {},
   "source": [
    "In order to run KMeans clustering on our dataset, we need to ensure that all columns are numerical. We'll then scale these measures during the actual modeling step to ensure that those with larger ranges don't have an outsized impact on the model.\n",
    "\n",
    "From the .info() output above, we see that we still have several \"object\" datatype columns. which contain our categorical variables. We need to convert these to 0/1 dummy variable columns and remove the originals. \n",
    "\n",
    "One such column is 'neighbourhood', but it contains 187 unique neighbourhood names. This is approximately how many unique 'zipcode' entities there are (183), and they both indicate geographical positioning, so in the interest of not increasing dimensionality with 187 new dummy columns, we'll instead drop 'neighbourhood' and rely solely on 'zipcode'.\n",
    "\n",
    "'id' is a unique identifier, but has no predictive value from a clustering perspective, so we can drop this measure as well."
   ]
  },
  {
   "cell_type": "code",
   "execution_count": 91,
   "metadata": {},
   "outputs": [],
   "source": [
    "df_NYC.drop(['neighbourhood'], axis=1, inplace = True)\n",
    "df_NYC.drop(['id'], axis=1, inplace = True)"
   ]
  },
  {
   "cell_type": "code",
   "execution_count": 92,
   "metadata": {},
   "outputs": [
    {
     "data": {
      "text/plain": [
       "Apartment             14187\n",
       "House                   912\n",
       "Loft                    339\n",
       "Townhouse               297\n",
       "Condominium             267\n",
       "Other                   110\n",
       "Timeshare                35\n",
       "Guest suite              21\n",
       "Bed & Breakfast          21\n",
       "Guesthouse                9\n",
       "Bungalow                  9\n",
       "Boutique hotel            6\n",
       "Boat                      6\n",
       "Serviced apartment        6\n",
       "Vacation home             5\n",
       "Villa                     4\n",
       "In-law                    3\n",
       "Earth House               1\n",
       "Yurt                      1\n",
       "Cabin                     1\n",
       "Hostel                    1\n",
       "Chalet                    1\n",
       "Name: property_type, dtype: int64"
      ]
     },
     "execution_count": 92,
     "metadata": {},
     "output_type": "execute_result"
    }
   ],
   "source": [
    "df_NYC['property_type'].value_counts()"
   ]
  },
  {
   "cell_type": "code",
   "execution_count": 93,
   "metadata": {},
   "outputs": [
    {
     "data": {
      "text/plain": [
       "Apartment      14187\n",
       "House            912\n",
       "Loft             339\n",
       "Townhouse        297\n",
       "Condominium      267\n",
       "Other            240\n",
       "Name: property_type, dtype: int64"
      ]
     },
     "execution_count": 93,
     "metadata": {},
     "output_type": "execute_result"
    }
   ],
   "source": [
    "df_NYC.loc[df_NYC[\"property_type\"] == 'Timeshare','property_type'] = 'Other'\n",
    "df_NYC.loc[df_NYC[\"property_type\"] == 'Guest suite','property_type'] = 'Other'\n",
    "df_NYC.loc[df_NYC[\"property_type\"] == 'Bed & Breakfast','property_type'] = 'Other'\n",
    "df_NYC.loc[df_NYC[\"property_type\"] == 'Guesthouse','property_type'] = 'Other'\n",
    "df_NYC.loc[df_NYC[\"property_type\"] == 'Bungalow','property_type'] = 'Other'\n",
    "df_NYC.loc[df_NYC[\"property_type\"] == 'Boutique hotel','property_type'] = 'Other'\n",
    "df_NYC.loc[df_NYC[\"property_type\"] == 'Boat','property_type'] = 'Other'\n",
    "df_NYC.loc[df_NYC[\"property_type\"] == 'Serviced apartment','property_type'] = 'Other'\n",
    "df_NYC.loc[df_NYC[\"property_type\"] == 'Vacation home','property_type'] = 'Other'\n",
    "df_NYC.loc[df_NYC[\"property_type\"] == 'Villa','property_type'] = 'Other'\n",
    "df_NYC.loc[df_NYC[\"property_type\"] == 'In-law','property_type'] = 'Other'\n",
    "df_NYC.loc[df_NYC[\"property_type\"] == 'Earth House','property_type'] = 'Other'\n",
    "df_NYC.loc[df_NYC[\"property_type\"] == 'Yurt','property_type'] = 'Other'\n",
    "df_NYC.loc[df_NYC[\"property_type\"] == 'Cabin','property_type'] = 'Other'\n",
    "df_NYC.loc[df_NYC[\"property_type\"] == 'Hostel','property_type'] = 'Other'\n",
    "df_NYC.loc[df_NYC[\"property_type\"] == 'Chalet','property_type'] = 'Other'\n",
    "\n",
    "df_NYC['property_type'].value_counts()"
   ]
  },
  {
   "cell_type": "code",
   "execution_count": 94,
   "metadata": {},
   "outputs": [],
   "source": [
    "df_NYC = pd.get_dummies(data=df_NYC, columns=['property_type', 'borough'], drop_first=True)"
   ]
  },
  {
   "cell_type": "code",
   "execution_count": 95,
   "metadata": {},
   "outputs": [
    {
     "data": {
      "text/plain": [
       "Real Bed         15994\n",
       "Pull-out Sofa       98\n",
       "Futon               90\n",
       "Airbed              38\n",
       "Couch               22\n",
       "Name: bed_type, dtype: int64"
      ]
     },
     "execution_count": 95,
     "metadata": {},
     "output_type": "execute_result"
    }
   ],
   "source": [
    "df_NYC['bed_type'].value_counts()"
   ]
  },
  {
   "cell_type": "code",
   "execution_count": 96,
   "metadata": {},
   "outputs": [
    {
     "data": {
      "text/plain": [
       "1    15994\n",
       "0      248\n",
       "Name: real_bed, dtype: int64"
      ]
     },
     "execution_count": 96,
     "metadata": {},
     "output_type": "execute_result"
    }
   ],
   "source": [
    "df_NYC.loc[df_NYC[\"bed_type\"] == 'Real Bed','bed_type'] = 1\n",
    "df_NYC.loc[df_NYC[\"bed_type\"] == 'Pull-out Sofa','bed_type'] = 0\n",
    "df_NYC.loc[df_NYC[\"bed_type\"] == 'Futon','bed_type'] = 0\n",
    "df_NYC.loc[df_NYC[\"bed_type\"] == 'Airbed','bed_type'] = 0\n",
    "df_NYC.loc[df_NYC[\"bed_type\"] == 'Couch','bed_type'] = 0\n",
    "df_NYC.rename(columns={\"bed_type\": \"real_bed\"}, inplace=True)\n",
    "df_NYC['real_bed'] = df_NYC['real_bed'].astype(int)\n",
    "df_NYC['real_bed'].value_counts()"
   ]
  },
  {
   "cell_type": "code",
   "execution_count": 97,
   "metadata": {},
   "outputs": [
    {
     "data": {
      "text/plain": [
       "strict             8284\n",
       "flexible           4014\n",
       "moderate           3934\n",
       "super_strict_30       9\n",
       "super_strict_60       1\n",
       "Name: cancellation_policy, dtype: int64"
      ]
     },
     "execution_count": 97,
     "metadata": {},
     "output_type": "execute_result"
    }
   ],
   "source": [
    "df_NYC['cancellation_policy'].value_counts()"
   ]
  },
  {
   "cell_type": "code",
   "execution_count": 98,
   "metadata": {},
   "outputs": [
    {
     "data": {
      "text/plain": [
       " 1    8294\n",
       "-1    4014\n",
       " 0    3934\n",
       "Name: cancellation_policy, dtype: int64"
      ]
     },
     "execution_count": 98,
     "metadata": {},
     "output_type": "execute_result"
    }
   ],
   "source": [
    "df_NYC.loc[df_NYC[\"cancellation_policy\"] == 'super_strict_30','cancellation_policy'] = 'strict'\n",
    "df_NYC.loc[df_NYC[\"cancellation_policy\"] == 'super_strict_60','cancellation_policy'] = 'strict'\n",
    "\n",
    "df_NYC.loc[df_NYC[\"cancellation_policy\"] == 'strict','cancellation_policy'] = 1\n",
    "df_NYC.loc[df_NYC[\"cancellation_policy\"] == 'moderate','cancellation_policy'] = 0\n",
    "df_NYC.loc[df_NYC[\"cancellation_policy\"] == 'flexible','cancellation_policy'] = -1\n",
    "\n",
    "df_NYC['cancellation_policy'] = df_NYC['cancellation_policy'].astype(int)\n",
    "\n",
    "df_NYC['cancellation_policy'].value_counts()"
   ]
  },
  {
   "cell_type": "code",
   "execution_count": 99,
   "metadata": {
    "scrolled": false
   },
   "outputs": [
    {
     "name": "stdout",
     "output_type": "stream",
     "text": [
      "<class 'pandas.core.frame.DataFrame'>\n",
      "RangeIndex: 16242 entries, 0 to 16241\n",
      "Data columns (total 94 columns):\n",
      " #   Column                     Non-Null Count  Dtype  \n",
      "---  ------                     --------------  -----  \n",
      " 0   log_price                  16242 non-null  float64\n",
      " 1   accommodates               16242 non-null  float64\n",
      " 2   bathrooms                  16242 non-null  float64\n",
      " 3   real_bed                   16242 non-null  int32  \n",
      " 4   cancellation_policy        16242 non-null  int32  \n",
      " 5   cleaning_fee               16242 non-null  int64  \n",
      " 6   host_has_profile_pic       16242 non-null  int64  \n",
      " 7   host_identity_verified     16242 non-null  int64  \n",
      " 8   host_response_rate         16242 non-null  float64\n",
      " 9   instant_bookable           16242 non-null  int64  \n",
      " 10  latitude                   16242 non-null  float64\n",
      " 11  longitude                  16242 non-null  float64\n",
      " 12  number_of_reviews          16242 non-null  float64\n",
      " 13  review_scores_rating       16242 non-null  float64\n",
      " 14  zipcode                    16242 non-null  int64  \n",
      " 15  bedrooms                   16242 non-null  float64\n",
      " 16  beds                       16242 non-null  float64\n",
      " 17  AC                         16242 non-null  int64  \n",
      " 18  WiFi                       16242 non-null  int64  \n",
      " 19  Office                     16242 non-null  int64  \n",
      " 20  Kids                       16242 non-null  int64  \n",
      " 21  Washer                     16242 non-null  int64  \n",
      " 22  Dryer                      16242 non-null  int64  \n",
      " 23  Elevator                   16242 non-null  int64  \n",
      " 24  24hr                       16242 non-null  int64  \n",
      " 25  BR_Lock                    16242 non-null  int64  \n",
      " 26  Self_CheckIn               16242 non-null  int64  \n",
      " 27  Pet_Friendly               16242 non-null  int64  \n",
      " 28  Doorman                    16242 non-null  int64  \n",
      " 29  Private_Ent                16242 non-null  int64  \n",
      " 30  Stove                      16242 non-null  int64  \n",
      " 31  Oven                       16242 non-null  int64  \n",
      " 32  Gym                        16242 non-null  int64  \n",
      " 33  Lockbox                    16242 non-null  int64  \n",
      " 34  Free_parking               16242 non-null  int64  \n",
      " 35  Breakfast                  16242 non-null  int64  \n",
      " 36  Wheelchair                 16242 non-null  int64  \n",
      " 37  Pets_on_prop               16242 non-null  int64  \n",
      " 38  Events                     16242 non-null  int64  \n",
      " 39  Fireplace                  16242 non-null  int64  \n",
      " 40  Dishwasher                 16242 non-null  int64  \n",
      " 41  Hot_tub                    16242 non-null  int64  \n",
      " 42  Long_term                  16242 non-null  int64  \n",
      " 43  Darkening                  16242 non-null  int64  \n",
      " 44  Pets                       16242 non-null  int64  \n",
      " 45  Luggage                    16242 non-null  int64  \n",
      " 46  Smoking                    16242 non-null  int64  \n",
      " 47  Keypad                     16242 non-null  int64  \n",
      " 48  Patio_Balcony              16242 non-null  int64  \n",
      " 49  Garden_backyard            16242 non-null  int64  \n",
      " 50  Private_LR                 16242 non-null  int64  \n",
      " 51  Pool                       16242 non-null  int64  \n",
      " 52  Smart lock                 16242 non-null  int64  \n",
      " 53  BBQ grill                  16242 non-null  int64  \n",
      " 54  Crib                       16242 non-null  int64  \n",
      " 55  days_since_first_review    16242 non-null  int64  \n",
      " 56  avg_mthly_rev              16242 non-null  float64\n",
      " 57  days_since_host_start      16242 non-null  int64  \n",
      " 58  has_url                    16242 non-null  int64  \n",
      " 59  desc_length                16242 non-null  int64  \n",
      " 60  name_length                16242 non-null  int64  \n",
      " 61  #_of_amenities             16242 non-null  int64  \n",
      " 62  big_words                  16242 non-null  int64  \n",
      " 63  small_words                16242 non-null  int64  \n",
      " 64  pub_trans_words            16242 non-null  int64  \n",
      " 65  landmark_words             16242 non-null  int64  \n",
      " 66  nightlife_words            16242 non-null  int64  \n",
      " 67  business_words             16242 non-null  int64  \n",
      " 68  safety_words               16242 non-null  int64  \n",
      " 69  view_words                 16242 non-null  int64  \n",
      " 70  updates_words              16242 non-null  int64  \n",
      " 71  cleanliness_words          16242 non-null  int64  \n",
      " 72  tourism_words              16242 non-null  int64  \n",
      " 73  relaxation_words           16242 non-null  int64  \n",
      " 74  family_words               16242 non-null  int64  \n",
      " 75  proximity_words            16242 non-null  int64  \n",
      " 76  romance_words              16242 non-null  int64  \n",
      " 77  luxury_words               16242 non-null  int64  \n",
      " 78  culture_words              16242 non-null  int64  \n",
      " 79  ease_words                 16242 non-null  int64  \n",
      " 80  hip_words                  16242 non-null  int64  \n",
      " 81  history_words              16242 non-null  int64  \n",
      " 82  nature_words               16242 non-null  int64  \n",
      " 83  retail_words               16242 non-null  int64  \n",
      " 84  negative_words             16242 non-null  int64  \n",
      " 85  property_type_Condominium  16242 non-null  uint8  \n",
      " 86  property_type_House        16242 non-null  uint8  \n",
      " 87  property_type_Loft         16242 non-null  uint8  \n",
      " 88  property_type_Other        16242 non-null  uint8  \n",
      " 89  property_type_Townhouse    16242 non-null  uint8  \n",
      " 90  borough_Brooklyn           16242 non-null  uint8  \n",
      " 91  borough_Manhattan          16242 non-null  uint8  \n",
      " 92  borough_Queens             16242 non-null  uint8  \n",
      " 93  borough_Staten Island      16242 non-null  uint8  \n",
      "dtypes: float64(11), int32(2), int64(72), uint8(9)\n",
      "memory usage: 10.5 MB\n"
     ]
    }
   ],
   "source": [
    "df_NYC.info()"
   ]
  },
  {
   "cell_type": "markdown",
   "metadata": {},
   "source": [
    "We now have what we need, as all of our data is either of type int or type float. We can proceed to the modeling step, where we will scale our data, run the KMeans clustering model, and evaluate the results."
   ]
  }
 ],
 "metadata": {
  "kernelspec": {
   "display_name": "Python 3",
   "language": "python",
   "name": "python3"
  },
  "language_info": {
   "codemirror_mode": {
    "name": "ipython",
    "version": 3
   },
   "file_extension": ".py",
   "mimetype": "text/x-python",
   "name": "python",
   "nbconvert_exporter": "python",
   "pygments_lexer": "ipython3",
   "version": "3.8.5"
  }
 },
 "nbformat": 4,
 "nbformat_minor": 4
}
